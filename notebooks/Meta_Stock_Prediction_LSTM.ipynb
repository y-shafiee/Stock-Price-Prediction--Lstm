{
 "cells": [
  {
   "cell_type": "code",
   "execution_count": 117,
   "metadata": {
    "colab": {
     "base_uri": "https://localhost:8080/"
    },
    "executionInfo": {
     "elapsed": 3859,
     "status": "ok",
     "timestamp": 1657980660122,
     "user": {
      "displayName": "yeganeh shafiee",
      "userId": "07130372387837578350"
     },
     "user_tz": -270
    },
    "id": "ylpC7trTePvR",
    "outputId": "c4bc1d4b-86e4-4854-f139-89a3700a2def"
   },
   "outputs": [
    {
     "name": "stdout",
     "output_type": "stream",
     "text": [
      "Drive already mounted at /content/drive; to attempt to forcibly remount, call drive.mount(\"/content/drive\", force_remount=True).\n"
     ]
    }
   ],
   "source": [
    "from google.colab import drive\n",
    "drive.mount('/content/drive')"
   ]
  },
  {
   "cell_type": "markdown",
   "metadata": {
    "id": "NHkOugIAEyT1"
   },
   "source": [
    "# 1.Import dataset"
   ]
  },
  {
   "cell_type": "code",
   "execution_count": 118,
   "metadata": {
    "executionInfo": {
     "elapsed": 38,
     "status": "ok",
     "timestamp": 1657980660124,
     "user": {
      "displayName": "yeganeh shafiee",
      "userId": "07130372387837578350"
     },
     "user_tz": -270
    },
    "id": "7y6xw01nfOUG"
   },
   "outputs": [],
   "source": [
    "ds_path = '/content/drive/MyDrive/filoger project/LSTM model/META.csv'"
   ]
  },
  {
   "cell_type": "code",
   "execution_count": 119,
   "metadata": {
    "executionInfo": {
     "elapsed": 38,
     "status": "ok",
     "timestamp": 1657980660125,
     "user": {
      "displayName": "yeganeh shafiee",
      "userId": "07130372387837578350"
     },
     "user_tz": -270
    },
    "id": "2YaHH4h7fn9i"
   },
   "outputs": [],
   "source": [
    "import numpy as np\n",
    "import pandas as pd\n",
    "import matplotlib.pyplot as plt"
   ]
  },
  {
   "cell_type": "code",
   "execution_count": 120,
   "metadata": {
    "executionInfo": {
     "elapsed": 39,
     "status": "ok",
     "timestamp": 1657980660127,
     "user": {
      "displayName": "yeganeh shafiee",
      "userId": "07130372387837578350"
     },
     "user_tz": -270
    },
    "id": "Lk9RHa9ffx2A"
   },
   "outputs": [],
   "source": [
    "meta_ds = pd.read_csv(ds_path)"
   ]
  },
  {
   "cell_type": "code",
   "execution_count": 121,
   "metadata": {
    "colab": {
     "base_uri": "https://localhost:8080/"
    },
    "executionInfo": {
     "elapsed": 40,
     "status": "ok",
     "timestamp": 1657980660128,
     "user": {
      "displayName": "yeganeh shafiee",
      "userId": "07130372387837578350"
     },
     "user_tz": -270
    },
    "id": "Q7dffMxo6R_i",
    "outputId": "e89b688f-a855-40e7-909b-cb4821f77c76"
   },
   "outputs": [
    {
     "data": {
      "text/plain": [
       "763"
      ]
     },
     "execution_count": 121,
     "metadata": {},
     "output_type": "execute_result"
    }
   ],
   "source": [
    "len(meta_ds)\n"
   ]
  },
  {
   "cell_type": "code",
   "execution_count": 122,
   "metadata": {
    "colab": {
     "base_uri": "https://localhost:8080/",
     "height": 300
    },
    "executionInfo": {
     "elapsed": 37,
     "status": "ok",
     "timestamp": 1657980660128,
     "user": {
      "displayName": "yeganeh shafiee",
      "userId": "07130372387837578350"
     },
     "user_tz": -270
    },
    "id": "zWUmLgu0f36i",
    "outputId": "a71edff9-f23d-4690-c6fb-cf72be77864a"
   },
   "outputs": [
    {
     "data": {
      "text/html": [
       "\n",
       "  <div id=\"df-7241e49c-a9e9-4c20-b45c-3c2748cd852b\">\n",
       "    <div class=\"colab-df-container\">\n",
       "      <div>\n",
       "<style scoped>\n",
       "    .dataframe tbody tr th:only-of-type {\n",
       "        vertical-align: middle;\n",
       "    }\n",
       "\n",
       "    .dataframe tbody tr th {\n",
       "        vertical-align: top;\n",
       "    }\n",
       "\n",
       "    .dataframe thead th {\n",
       "        text-align: right;\n",
       "    }\n",
       "</style>\n",
       "<table border=\"1\" class=\"dataframe\">\n",
       "  <thead>\n",
       "    <tr style=\"text-align: right;\">\n",
       "      <th></th>\n",
       "      <th>Open</th>\n",
       "      <th>High</th>\n",
       "      <th>Low</th>\n",
       "      <th>Close</th>\n",
       "      <th>Adj Close</th>\n",
       "      <th>Volume</th>\n",
       "    </tr>\n",
       "  </thead>\n",
       "  <tbody>\n",
       "    <tr>\n",
       "      <th>count</th>\n",
       "      <td>763.000000</td>\n",
       "      <td>763.000000</td>\n",
       "      <td>763.000000</td>\n",
       "      <td>763.000000</td>\n",
       "      <td>763.000000</td>\n",
       "      <td>7.630000e+02</td>\n",
       "    </tr>\n",
       "    <tr>\n",
       "      <th>mean</th>\n",
       "      <td>253.520537</td>\n",
       "      <td>257.024627</td>\n",
       "      <td>250.014797</td>\n",
       "      <td>253.519175</td>\n",
       "      <td>253.519175</td>\n",
       "      <td>2.178305e+07</td>\n",
       "    </tr>\n",
       "    <tr>\n",
       "      <th>std</th>\n",
       "      <td>61.336326</td>\n",
       "      <td>61.734640</td>\n",
       "      <td>61.019671</td>\n",
       "      <td>61.408915</td>\n",
       "      <td>61.408915</td>\n",
       "      <td>1.335438e+07</td>\n",
       "    </tr>\n",
       "    <tr>\n",
       "      <th>min</th>\n",
       "      <td>139.750000</td>\n",
       "      <td>148.179993</td>\n",
       "      <td>137.100006</td>\n",
       "      <td>146.009995</td>\n",
       "      <td>146.009995</td>\n",
       "      <td>6.046300e+06</td>\n",
       "    </tr>\n",
       "    <tr>\n",
       "      <th>25%</th>\n",
       "      <td>199.254998</td>\n",
       "      <td>201.250000</td>\n",
       "      <td>195.535004</td>\n",
       "      <td>198.665001</td>\n",
       "      <td>198.665001</td>\n",
       "      <td>1.384520e+07</td>\n",
       "    </tr>\n",
       "    <tr>\n",
       "      <th>50%</th>\n",
       "      <td>246.500000</td>\n",
       "      <td>249.949997</td>\n",
       "      <td>240.080002</td>\n",
       "      <td>245.419998</td>\n",
       "      <td>245.419998</td>\n",
       "      <td>1.837950e+07</td>\n",
       "    </tr>\n",
       "    <tr>\n",
       "      <th>75%</th>\n",
       "      <td>307.329987</td>\n",
       "      <td>311.750000</td>\n",
       "      <td>303.835006</td>\n",
       "      <td>307.460006</td>\n",
       "      <td>307.460006</td>\n",
       "      <td>2.626155e+07</td>\n",
       "    </tr>\n",
       "    <tr>\n",
       "      <th>max</th>\n",
       "      <td>381.679993</td>\n",
       "      <td>384.329987</td>\n",
       "      <td>378.809998</td>\n",
       "      <td>382.179993</td>\n",
       "      <td>382.179993</td>\n",
       "      <td>1.881199e+08</td>\n",
       "    </tr>\n",
       "  </tbody>\n",
       "</table>\n",
       "</div>\n",
       "      <button class=\"colab-df-convert\" onclick=\"convertToInteractive('df-7241e49c-a9e9-4c20-b45c-3c2748cd852b')\"\n",
       "              title=\"Convert this dataframe to an interactive table.\"\n",
       "              style=\"display:none;\">\n",
       "        \n",
       "  <svg xmlns=\"http://www.w3.org/2000/svg\" height=\"24px\"viewBox=\"0 0 24 24\"\n",
       "       width=\"24px\">\n",
       "    <path d=\"M0 0h24v24H0V0z\" fill=\"none\"/>\n",
       "    <path d=\"M18.56 5.44l.94 2.06.94-2.06 2.06-.94-2.06-.94-.94-2.06-.94 2.06-2.06.94zm-11 1L8.5 8.5l.94-2.06 2.06-.94-2.06-.94L8.5 2.5l-.94 2.06-2.06.94zm10 10l.94 2.06.94-2.06 2.06-.94-2.06-.94-.94-2.06-.94 2.06-2.06.94z\"/><path d=\"M17.41 7.96l-1.37-1.37c-.4-.4-.92-.59-1.43-.59-.52 0-1.04.2-1.43.59L10.3 9.45l-7.72 7.72c-.78.78-.78 2.05 0 2.83L4 21.41c.39.39.9.59 1.41.59.51 0 1.02-.2 1.41-.59l7.78-7.78 2.81-2.81c.8-.78.8-2.07 0-2.86zM5.41 20L4 18.59l7.72-7.72 1.47 1.35L5.41 20z\"/>\n",
       "  </svg>\n",
       "      </button>\n",
       "      \n",
       "  <style>\n",
       "    .colab-df-container {\n",
       "      display:flex;\n",
       "      flex-wrap:wrap;\n",
       "      gap: 12px;\n",
       "    }\n",
       "\n",
       "    .colab-df-convert {\n",
       "      background-color: #E8F0FE;\n",
       "      border: none;\n",
       "      border-radius: 50%;\n",
       "      cursor: pointer;\n",
       "      display: none;\n",
       "      fill: #1967D2;\n",
       "      height: 32px;\n",
       "      padding: 0 0 0 0;\n",
       "      width: 32px;\n",
       "    }\n",
       "\n",
       "    .colab-df-convert:hover {\n",
       "      background-color: #E2EBFA;\n",
       "      box-shadow: 0px 1px 2px rgba(60, 64, 67, 0.3), 0px 1px 3px 1px rgba(60, 64, 67, 0.15);\n",
       "      fill: #174EA6;\n",
       "    }\n",
       "\n",
       "    [theme=dark] .colab-df-convert {\n",
       "      background-color: #3B4455;\n",
       "      fill: #D2E3FC;\n",
       "    }\n",
       "\n",
       "    [theme=dark] .colab-df-convert:hover {\n",
       "      background-color: #434B5C;\n",
       "      box-shadow: 0px 1px 3px 1px rgba(0, 0, 0, 0.15);\n",
       "      filter: drop-shadow(0px 1px 2px rgba(0, 0, 0, 0.3));\n",
       "      fill: #FFFFFF;\n",
       "    }\n",
       "  </style>\n",
       "\n",
       "      <script>\n",
       "        const buttonEl =\n",
       "          document.querySelector('#df-7241e49c-a9e9-4c20-b45c-3c2748cd852b button.colab-df-convert');\n",
       "        buttonEl.style.display =\n",
       "          google.colab.kernel.accessAllowed ? 'block' : 'none';\n",
       "\n",
       "        async function convertToInteractive(key) {\n",
       "          const element = document.querySelector('#df-7241e49c-a9e9-4c20-b45c-3c2748cd852b');\n",
       "          const dataTable =\n",
       "            await google.colab.kernel.invokeFunction('convertToInteractive',\n",
       "                                                     [key], {});\n",
       "          if (!dataTable) return;\n",
       "\n",
       "          const docLinkHtml = 'Like what you see? Visit the ' +\n",
       "            '<a target=\"_blank\" href=https://colab.research.google.com/notebooks/data_table.ipynb>data table notebook</a>'\n",
       "            + ' to learn more about interactive tables.';\n",
       "          element.innerHTML = '';\n",
       "          dataTable['output_type'] = 'display_data';\n",
       "          await google.colab.output.renderOutput(dataTable, element);\n",
       "          const docLink = document.createElement('div');\n",
       "          docLink.innerHTML = docLinkHtml;\n",
       "          element.appendChild(docLink);\n",
       "        }\n",
       "      </script>\n",
       "    </div>\n",
       "  </div>\n",
       "  "
      ],
      "text/plain": [
       "             Open        High         Low       Close   Adj Close  \\\n",
       "count  763.000000  763.000000  763.000000  763.000000  763.000000   \n",
       "mean   253.520537  257.024627  250.014797  253.519175  253.519175   \n",
       "std     61.336326   61.734640   61.019671   61.408915   61.408915   \n",
       "min    139.750000  148.179993  137.100006  146.009995  146.009995   \n",
       "25%    199.254998  201.250000  195.535004  198.665001  198.665001   \n",
       "50%    246.500000  249.949997  240.080002  245.419998  245.419998   \n",
       "75%    307.329987  311.750000  303.835006  307.460006  307.460006   \n",
       "max    381.679993  384.329987  378.809998  382.179993  382.179993   \n",
       "\n",
       "             Volume  \n",
       "count  7.630000e+02  \n",
       "mean   2.178305e+07  \n",
       "std    1.335438e+07  \n",
       "min    6.046300e+06  \n",
       "25%    1.384520e+07  \n",
       "50%    1.837950e+07  \n",
       "75%    2.626155e+07  \n",
       "max    1.881199e+08  "
      ]
     },
     "execution_count": 122,
     "metadata": {},
     "output_type": "execute_result"
    }
   ],
   "source": [
    "meta_ds.describe()"
   ]
  },
  {
   "cell_type": "code",
   "execution_count": 123,
   "metadata": {
    "colab": {
     "base_uri": "https://localhost:8080/"
    },
    "executionInfo": {
     "elapsed": 37,
     "status": "ok",
     "timestamp": 1657980660130,
     "user": {
      "displayName": "yeganeh shafiee",
      "userId": "07130372387837578350"
     },
     "user_tz": -270
    },
    "id": "Q2kI-_yCgWE1",
    "outputId": "d97f32e4-cd65-4777-948c-3a592bedc298"
   },
   "outputs": [
    {
     "name": "stdout",
     "output_type": "stream",
     "text": [
      "<class 'pandas.core.frame.DataFrame'>\n",
      "RangeIndex: 763 entries, 0 to 762\n",
      "Data columns (total 7 columns):\n",
      " #   Column     Non-Null Count  Dtype  \n",
      "---  ------     --------------  -----  \n",
      " 0   Date       763 non-null    object \n",
      " 1   Open       763 non-null    float64\n",
      " 2   High       763 non-null    float64\n",
      " 3   Low        763 non-null    float64\n",
      " 4   Close      763 non-null    float64\n",
      " 5   Adj Close  763 non-null    float64\n",
      " 6   Volume     763 non-null    int64  \n",
      "dtypes: float64(5), int64(1), object(1)\n",
      "memory usage: 41.9+ KB\n"
     ]
    }
   ],
   "source": [
    "meta_ds.info()"
   ]
  },
  {
   "cell_type": "code",
   "execution_count": 124,
   "metadata": {
    "executionInfo": {
     "elapsed": 36,
     "status": "ok",
     "timestamp": 1657980660132,
     "user": {
      "displayName": "yeganeh shafiee",
      "userId": "07130372387837578350"
     },
     "user_tz": -270
    },
    "id": "SLZQPRttFPAW"
   },
   "outputs": [],
   "source": [
    "meta_ds_close = meta_ds.iloc[:, 4].values"
   ]
  },
  {
   "cell_type": "code",
   "execution_count": 125,
   "metadata": {
    "colab": {
     "base_uri": "https://localhost:8080/"
    },
    "executionInfo": {
     "elapsed": 36,
     "status": "ok",
     "timestamp": 1657980660133,
     "user": {
      "displayName": "yeganeh shafiee",
      "userId": "07130372387837578350"
     },
     "user_tz": -270
    },
    "id": "AVIQcc66g-i3",
    "outputId": "a8d04396-8ec5-4a3a-c76c-a14aa0743b41"
   },
   "outputs": [
    {
     "data": {
      "text/plain": [
       "763"
      ]
     },
     "execution_count": 125,
     "metadata": {},
     "output_type": "execute_result"
    }
   ],
   "source": [
    "meta_ds_close.size"
   ]
  },
  {
   "cell_type": "code",
   "execution_count": 126,
   "metadata": {
    "colab": {
     "base_uri": "https://localhost:8080/",
     "height": 282
    },
    "executionInfo": {
     "elapsed": 35,
     "status": "ok",
     "timestamp": 1657980660135,
     "user": {
      "displayName": "yeganeh shafiee",
      "userId": "07130372387837578350"
     },
     "user_tz": -270
    },
    "id": "kTaSx24QhJVe",
    "outputId": "8db1c5f0-6dbf-4c46-902b-3d152a260075"
   },
   "outputs": [
    {
     "data": {
      "text/plain": [
       "[<matplotlib.lines.Line2D at 0x7f01d4918b50>]"
      ]
     },
     "execution_count": 126,
     "metadata": {},
     "output_type": "execute_result"
    },
    {
     "data": {
      "image/png": "[encoded data removed]",
      "text/plain": [
       "<Figure size 432x288 with 1 Axes>"
      ]
     },
     "metadata": {
      "needs_background": "light"
     },
     "output_type": "display_data"
    }
   ],
   "source": [
    "plt.plot(meta_ds_close)"
   ]
  },
  {
   "cell_type": "markdown",
   "metadata": {
    "id": "DV1dGj9FFoJX"
   },
   "source": [
    "# 2.preprocess the data:"
   ]
  },
  {
   "cell_type": "code",
   "execution_count": 127,
   "metadata": {
    "executionInfo": {
     "elapsed": 33,
     "status": "ok",
     "timestamp": 1657980660136,
     "user": {
      "displayName": "yeganeh shafiee",
      "userId": "07130372387837578350"
     },
     "user_tz": -270
    },
    "id": "OHQ0oPEFhUr3"
   },
   "outputs": [],
   "source": [
    "from sklearn.preprocessing import MinMaxScaler\n",
    "scaler = MinMaxScaler()\n",
    "meta_ds_close_scaled = scaler.fit_transform(meta_ds_close.reshape(-1, 1))"
   ]
  },
  {
   "cell_type": "code",
   "execution_count": 128,
   "metadata": {
    "colab": {
     "base_uri": "https://localhost:8080/",
     "height": 282
    },
    "executionInfo": {
     "elapsed": 33,
     "status": "ok",
     "timestamp": 1657980660136,
     "user": {
      "displayName": "yeganeh shafiee",
      "userId": "07130372387837578350"
     },
     "user_tz": -270
    },
    "id": "ILcm10ySivBH",
    "outputId": "6def4f9d-6bc2-4f6f-c9a1-a343ed4de926"
   },
   "outputs": [
    {
     "data": {
      "text/plain": [
       "[<matplotlib.lines.Line2D at 0x7f01d0b50850>]"
      ]
     },
     "execution_count": 128,
     "metadata": {},
     "output_type": "execute_result"
    },
    {
     "data": {
      "image/png": "[encoded data removed]",
      "text/plain": [
       "<Figure size 432x288 with 1 Axes>"
      ]
     },
     "metadata": {
      "needs_background": "light"
     },
     "output_type": "display_data"
    }
   ],
   "source": [
    "plt.plot(meta_ds_close_scaled)"
   ]
  },
  {
   "cell_type": "code",
   "execution_count": 129,
   "metadata": {
    "executionInfo": {
     "elapsed": 31,
     "status": "ok",
     "timestamp": 1657980660137,
     "user": {
      "displayName": "yeganeh shafiee",
      "userId": "07130372387837578350"
     },
     "user_tz": -270
    },
    "id": "5jfYfPBCjGjV"
   },
   "outputs": [],
   "source": [
    "X_meta_close= []\n",
    "y_meta_close= []"
   ]
  },
  {
   "cell_type": "code",
   "execution_count": 130,
   "metadata": {
    "executionInfo": {
     "elapsed": 35,
     "status": "ok",
     "timestamp": 1657980660761,
     "user": {
      "displayName": "yeganeh shafiee",
      "userId": "07130372387837578350"
     },
     "user_tz": -270
    },
    "id": "qWTe3WbejfP7"
   },
   "outputs": [],
   "source": [
    "for i in range(40, len(meta_ds_close_scaled)):\n",
    "  X_meta_close.append(meta_ds_close_scaled[i-40:i, 0])\n",
    "  y_meta_close.append(meta_ds_close_scaled[i, 0])"
   ]
  },
  {
   "cell_type": "code",
   "execution_count": 131,
   "metadata": {
    "executionInfo": {
     "elapsed": 35,
     "status": "ok",
     "timestamp": 1657980660762,
     "user": {
      "displayName": "yeganeh shafiee",
      "userId": "07130372387837578350"
     },
     "user_tz": -270
    },
    "id": "-ebx0gnlkDmJ"
   },
   "outputs": [],
   "source": [
    "X_meta_close = np.array(X_meta_close)\n",
    "y_meta_close = np.array(y_meta_close)"
   ]
  },
  {
   "cell_type": "markdown",
   "metadata": {
    "id": "n8D4o46wTlp2"
   },
   "source": [
    "### Reshape"
   ]
  },
  {
   "cell_type": "code",
   "execution_count": 132,
   "metadata": {
    "executionInfo": {
     "elapsed": 35,
     "status": "ok",
     "timestamp": 1657980660763,
     "user": {
      "displayName": "yeganeh shafiee",
      "userId": "07130372387837578350"
     },
     "user_tz": -270
    },
    "id": "DqwDhNmYka0Z"
   },
   "outputs": [],
   "source": [
    "X_meta_close =np.reshape(X_meta_close, (X_meta_close.shape[0], X_meta_close.shape[1], 1))\n"
   ]
  },
  {
   "cell_type": "code",
   "execution_count": 133,
   "metadata": {
    "colab": {
     "base_uri": "https://localhost:8080/"
    },
    "executionInfo": {
     "elapsed": 35,
     "status": "ok",
     "timestamp": 1657980660764,
     "user": {
      "displayName": "yeganeh shafiee",
      "userId": "07130372387837578350"
     },
     "user_tz": -270
    },
    "id": "xLMgL2WzlWXK",
    "outputId": "f0183312-e907-4861-a987-7b59a1877aea"
   },
   "outputs": [
    {
     "data": {
      "text/plain": [
       "(723, 40, 1)"
      ]
     },
     "execution_count": 133,
     "metadata": {},
     "output_type": "execute_result"
    }
   ],
   "source": [
    "X_meta_close.shape"
   ]
  },
  {
   "cell_type": "code",
   "execution_count": 134,
   "metadata": {
    "executionInfo": {
     "elapsed": 32,
     "status": "ok",
     "timestamp": 1657980660764,
     "user": {
      "displayName": "yeganeh shafiee",
      "userId": "07130372387837578350"
     },
     "user_tz": -270
    },
    "id": "WU3_ATvQsS9D"
   },
   "outputs": [],
   "source": [
    "y_meta_close = np.reshape(y_meta_close, (-1,1))\n"
   ]
  },
  {
   "cell_type": "code",
   "execution_count": 135,
   "metadata": {
    "colab": {
     "base_uri": "https://localhost:8080/"
    },
    "executionInfo": {
     "elapsed": 33,
     "status": "ok",
     "timestamp": 1657980660765,
     "user": {
      "displayName": "yeganeh shafiee",
      "userId": "07130372387837578350"
     },
     "user_tz": -270
    },
    "id": "XWdgOsuvpk5O",
    "outputId": "fe771940-a1b0-4f94-ff4a-665abe9120c4"
   },
   "outputs": [
    {
     "data": {
      "text/plain": [
       "(723, 1)"
      ]
     },
     "execution_count": 135,
     "metadata": {},
     "output_type": "execute_result"
    }
   ],
   "source": [
    "y_meta_close.shape"
   ]
  },
  {
   "cell_type": "markdown",
   "metadata": {
    "id": "-bc3OwYQUKK-"
   },
   "source": [
    "### train_test_split"
   ]
  },
  {
   "cell_type": "code",
   "execution_count": 136,
   "metadata": {
    "executionInfo": {
     "elapsed": 30,
     "status": "ok",
     "timestamp": 1657980660765,
     "user": {
      "displayName": "yeganeh shafiee",
      "userId": "07130372387837578350"
     },
     "user_tz": -270
    },
    "id": "c8xACImRlZae"
   },
   "outputs": [],
   "source": [
    "from sklearn.model_selection import train_test_split\n",
    "X_train, X_test, y_train, y_test = train_test_split(X_meta_close, y_meta_close,test_size = 0.2, random_state = 42 )"
   ]
  },
  {
   "cell_type": "code",
   "execution_count": 137,
   "metadata": {
    "colab": {
     "base_uri": "https://localhost:8080/"
    },
    "executionInfo": {
     "elapsed": 31,
     "status": "ok",
     "timestamp": 1657980660766,
     "user": {
      "displayName": "yeganeh shafiee",
      "userId": "07130372387837578350"
     },
     "user_tz": -270
    },
    "id": "Xu8qLxWumBx0",
    "outputId": "09670388-4170-4a31-c214-b1b853467f16"
   },
   "outputs": [
    {
     "data": {
      "text/plain": [
       "(578, 40, 1)"
      ]
     },
     "execution_count": 137,
     "metadata": {},
     "output_type": "execute_result"
    }
   ],
   "source": [
    "X_train.shape"
   ]
  },
  {
   "cell_type": "code",
   "execution_count": 138,
   "metadata": {
    "colab": {
     "base_uri": "https://localhost:8080/"
    },
    "executionInfo": {
     "elapsed": 29,
     "status": "ok",
     "timestamp": 1657980660766,
     "user": {
      "displayName": "yeganeh shafiee",
      "userId": "07130372387837578350"
     },
     "user_tz": -270
    },
    "id": "d4lcHFPvpHS8",
    "outputId": "d597cda7-0212-420f-ddee-3ad88d4d0b8f"
   },
   "outputs": [
    {
     "data": {
      "text/plain": [
       "(578, 1)"
      ]
     },
     "execution_count": 138,
     "metadata": {},
     "output_type": "execute_result"
    }
   ],
   "source": [
    "y_train.shape"
   ]
  },
  {
   "cell_type": "markdown",
   "metadata": {
    "id": "S6PF5jU3GkYU"
   },
   "source": [
    "# 3.Design Deep Model\n",
    "### &\n",
    "# 4.Compile\n",
    "### &\n",
    "# 5.Fit"
   ]
  },
  {
   "cell_type": "code",
   "execution_count": 145,
   "metadata": {
    "colab": {
     "base_uri": "https://localhost:8080/"
    },
    "executionInfo": {
     "elapsed": 509465,
     "status": "ok",
     "timestamp": 1657982034242,
     "user": {
      "displayName": "yeganeh shafiee",
      "userId": "07130372387837578350"
     },
     "user_tz": -270
    },
    "id": "lcQzjV7rnXCE",
    "outputId": "f61da640-bd52-4423-8e72-1b2c8009dee2"
   },
   "outputs": [
    {
     "name": "stdout",
     "output_type": "stream",
     "text": [
      "Model: \"model_6\"\n",
      "_________________________________________________________________\n",
      " Layer (type)                Output Shape              Param #   \n",
      "=================================================================\n",
      " input_7 (InputLayer)        [(None, 40, 1)]           0         \n",
      "                                                                 \n",
      " lstm_25 (LSTM)              (None, 40, 64)            16896     \n",
      "                                                                 \n",
      " dropout_25 (Dropout)        (None, 40, 64)            0         \n",
      "                                                                 \n",
      " lstm_26 (LSTM)              (None, 64)                33024     \n",
      "                                                                 \n",
      " dropout_26 (Dropout)        (None, 64)                0         \n",
      "                                                                 \n",
      " dense_15 (Dense)            (None, 32)                2080      \n",
      "                                                                 \n",
      " dense_16 (Dense)            (None, 1)                 33        \n",
      "                                                                 \n",
      "=================================================================\n",
      "Total params: 52,033\n",
      "Trainable params: 52,033\n",
      "Non-trainable params: 0\n",
      "_________________________________________________________________\n",
      "Epoch 1/300\n",
      "17/17 [==============================] - 9s 126ms/step - loss: 0.0736 - val_loss: 0.0209\n",
      "Epoch 2/300\n",
      "17/17 [==============================] - 2s 92ms/step - loss: 0.0209 - val_loss: 0.0070\n",
      "Epoch 3/300\n",
      "17/17 [==============================] - 2s 93ms/step - loss: 0.0090 - val_loss: 0.0034\n",
      "Epoch 4/300\n",
      "17/17 [==============================] - 2s 93ms/step - loss: 0.0071 - val_loss: 0.0024\n",
      "Epoch 5/300\n",
      "17/17 [==============================] - 2s 91ms/step - loss: 0.0052 - val_loss: 0.0022\n",
      "Epoch 6/300\n",
      "17/17 [==============================] - 2s 92ms/step - loss: 0.0056 - val_loss: 0.0048\n",
      "Epoch 7/300\n",
      "17/17 [==============================] - 2s 90ms/step - loss: 0.0061 - val_loss: 0.0032\n",
      "Epoch 8/300\n",
      "17/17 [==============================] - 2s 92ms/step - loss: 0.0055 - val_loss: 0.0031\n",
      "Epoch 9/300\n",
      "17/17 [==============================] - 2s 92ms/step - loss: 0.0046 - val_loss: 0.0019\n",
      "Epoch 10/300\n",
      "17/17 [==============================] - 2s 91ms/step - loss: 0.0044 - val_loss: 0.0021\n",
      "Epoch 11/300\n",
      "17/17 [==============================] - 2s 90ms/step - loss: 0.0040 - val_loss: 0.0021\n",
      "Epoch 12/300\n",
      "17/17 [==============================] - 2s 91ms/step - loss: 0.0043 - val_loss: 0.0018\n",
      "Epoch 13/300\n",
      "17/17 [==============================] - 2s 92ms/step - loss: 0.0042 - val_loss: 0.0017\n",
      "Epoch 14/300\n",
      "17/17 [==============================] - 2s 91ms/step - loss: 0.0038 - val_loss: 0.0019\n",
      "Epoch 15/300\n",
      "17/17 [==============================] - 2s 91ms/step - loss: 0.0040 - val_loss: 0.0017\n",
      "Epoch 16/300\n",
      "17/17 [==============================] - 2s 89ms/step - loss: 0.0038 - val_loss: 0.0016\n",
      "Epoch 17/300\n",
      "17/17 [==============================] - 2s 90ms/step - loss: 0.0038 - val_loss: 0.0017\n",
      "Epoch 18/300\n",
      "17/17 [==============================] - 2s 91ms/step - loss: 0.0035 - val_loss: 0.0016\n",
      "Epoch 19/300\n",
      "17/17 [==============================] - 2s 92ms/step - loss: 0.0036 - val_loss: 0.0023\n",
      "Epoch 20/300\n",
      "17/17 [==============================] - 2s 91ms/step - loss: 0.0038 - val_loss: 0.0021\n",
      "Epoch 21/300\n",
      "17/17 [==============================] - 2s 93ms/step - loss: 0.0037 - val_loss: 0.0018\n",
      "Epoch 22/300\n",
      "17/17 [==============================] - 2s 95ms/step - loss: 0.0033 - val_loss: 0.0021\n",
      "Epoch 23/300\n",
      "17/17 [==============================] - 2s 93ms/step - loss: 0.0034 - val_loss: 0.0016\n",
      "Epoch 24/300\n",
      "17/17 [==============================] - 2s 90ms/step - loss: 0.0036 - val_loss: 0.0016\n",
      "Epoch 25/300\n",
      "17/17 [==============================] - 2s 92ms/step - loss: 0.0030 - val_loss: 0.0016\n",
      "Epoch 26/300\n",
      "17/17 [==============================] - 2s 92ms/step - loss: 0.0033 - val_loss: 0.0016\n",
      "Epoch 27/300\n",
      "17/17 [==============================] - 2s 91ms/step - loss: 0.0030 - val_loss: 0.0015\n",
      "Epoch 28/300\n",
      "17/17 [==============================] - 2s 90ms/step - loss: 0.0033 - val_loss: 0.0028\n",
      "Epoch 29/300\n",
      "17/17 [==============================] - 2s 93ms/step - loss: 0.0034 - val_loss: 0.0015\n",
      "Epoch 30/300\n",
      "17/17 [==============================] - 2s 90ms/step - loss: 0.0031 - val_loss: 0.0016\n",
      "Epoch 31/300\n",
      "17/17 [==============================] - 2s 91ms/step - loss: 0.0030 - val_loss: 0.0014\n",
      "Epoch 32/300\n",
      "17/17 [==============================] - 2s 91ms/step - loss: 0.0037 - val_loss: 0.0014\n",
      "Epoch 33/300\n",
      "17/17 [==============================] - 2s 135ms/step - loss: 0.0030 - val_loss: 0.0014\n",
      "Epoch 34/300\n",
      "17/17 [==============================] - 2s 113ms/step - loss: 0.0030 - val_loss: 0.0015\n",
      "Epoch 35/300\n",
      "17/17 [==============================] - 2s 93ms/step - loss: 0.0028 - val_loss: 0.0014\n",
      "Epoch 36/300\n",
      "17/17 [==============================] - 2s 91ms/step - loss: 0.0027 - val_loss: 0.0014\n",
      "Epoch 37/300\n",
      "17/17 [==============================] - 2s 91ms/step - loss: 0.0029 - val_loss: 0.0015\n",
      "Epoch 38/300\n",
      "17/17 [==============================] - 2s 93ms/step - loss: 0.0027 - val_loss: 0.0017\n",
      "Epoch 39/300\n",
      "17/17 [==============================] - 2s 91ms/step - loss: 0.0029 - val_loss: 0.0014\n",
      "Epoch 40/300\n",
      "17/17 [==============================] - 2s 92ms/step - loss: 0.0027 - val_loss: 0.0017\n",
      "Epoch 41/300\n",
      "17/17 [==============================] - 2s 92ms/step - loss: 0.0028 - val_loss: 0.0014\n",
      "Epoch 42/300\n",
      "17/17 [==============================] - 2s 93ms/step - loss: 0.0028 - val_loss: 0.0014\n",
      "Epoch 43/300\n",
      "17/17 [==============================] - 2s 91ms/step - loss: 0.0027 - val_loss: 0.0014\n",
      "Epoch 44/300\n",
      "17/17 [==============================] - 2s 91ms/step - loss: 0.0027 - val_loss: 0.0014\n",
      "Epoch 45/300\n",
      "17/17 [==============================] - 2s 91ms/step - loss: 0.0026 - val_loss: 0.0015\n",
      "Epoch 46/300\n",
      "17/17 [==============================] - 2s 91ms/step - loss: 0.0026 - val_loss: 0.0019\n",
      "Epoch 47/300\n",
      "17/17 [==============================] - 2s 92ms/step - loss: 0.0027 - val_loss: 0.0020\n",
      "Epoch 48/300\n",
      "17/17 [==============================] - 2s 92ms/step - loss: 0.0027 - val_loss: 0.0015\n",
      "Epoch 49/300\n",
      "17/17 [==============================] - 2s 92ms/step - loss: 0.0028 - val_loss: 0.0014\n",
      "Epoch 50/300\n",
      "17/17 [==============================] - 3s 153ms/step - loss: 0.0026 - val_loss: 0.0014\n",
      "Epoch 51/300\n",
      "17/17 [==============================] - 2s 130ms/step - loss: 0.0025 - val_loss: 0.0014\n",
      "Epoch 52/300\n",
      "17/17 [==============================] - 2s 90ms/step - loss: 0.0025 - val_loss: 0.0013\n",
      "Epoch 53/300\n",
      "17/17 [==============================] - 2s 92ms/step - loss: 0.0025 - val_loss: 0.0013\n",
      "Epoch 54/300\n",
      "17/17 [==============================] - 2s 92ms/step - loss: 0.0027 - val_loss: 0.0015\n",
      "Epoch 55/300\n",
      "17/17 [==============================] - 2s 90ms/step - loss: 0.0024 - val_loss: 0.0015\n",
      "Epoch 56/300\n",
      "17/17 [==============================] - 2s 90ms/step - loss: 0.0025 - val_loss: 0.0014\n",
      "Epoch 57/300\n",
      "17/17 [==============================] - 2s 91ms/step - loss: 0.0026 - val_loss: 0.0015\n",
      "Epoch 58/300\n",
      "17/17 [==============================] - 2s 93ms/step - loss: 0.0025 - val_loss: 0.0020\n",
      "Epoch 59/300\n",
      "17/17 [==============================] - 2s 91ms/step - loss: 0.0024 - val_loss: 0.0014\n",
      "Epoch 60/300\n",
      "17/17 [==============================] - 2s 92ms/step - loss: 0.0025 - val_loss: 0.0016\n",
      "Epoch 61/300\n",
      "17/17 [==============================] - 2s 91ms/step - loss: 0.0025 - val_loss: 0.0013\n",
      "Epoch 62/300\n",
      "17/17 [==============================] - 2s 92ms/step - loss: 0.0023 - val_loss: 0.0012\n",
      "Epoch 63/300\n",
      "17/17 [==============================] - 2s 92ms/step - loss: 0.0027 - val_loss: 0.0012\n",
      "Epoch 64/300\n",
      "17/17 [==============================] - 2s 92ms/step - loss: 0.0025 - val_loss: 0.0024\n",
      "Epoch 65/300\n",
      "17/17 [==============================] - 2s 91ms/step - loss: 0.0026 - val_loss: 0.0015\n",
      "Epoch 66/300\n",
      "17/17 [==============================] - 2s 93ms/step - loss: 0.0022 - val_loss: 0.0014\n",
      "Epoch 67/300\n",
      "17/17 [==============================] - 2s 91ms/step - loss: 0.0025 - val_loss: 0.0014\n",
      "Epoch 68/300\n",
      "17/17 [==============================] - 2s 93ms/step - loss: 0.0022 - val_loss: 0.0013\n",
      "Epoch 69/300\n",
      "17/17 [==============================] - 2s 92ms/step - loss: 0.0023 - val_loss: 0.0012\n",
      "Epoch 70/300\n",
      "17/17 [==============================] - 2s 92ms/step - loss: 0.0023 - val_loss: 0.0013\n",
      "Epoch 71/300\n",
      "17/17 [==============================] - 2s 92ms/step - loss: 0.0023 - val_loss: 0.0012\n",
      "Epoch 72/300\n",
      "17/17 [==============================] - 2s 92ms/step - loss: 0.0024 - val_loss: 0.0011\n",
      "Epoch 73/300\n",
      "17/17 [==============================] - 2s 93ms/step - loss: 0.0022 - val_loss: 0.0014\n",
      "Epoch 74/300\n",
      "17/17 [==============================] - 2s 92ms/step - loss: 0.0021 - val_loss: 0.0015\n",
      "Epoch 75/300\n",
      "17/17 [==============================] - 2s 91ms/step - loss: 0.0022 - val_loss: 0.0020\n",
      "Epoch 76/300\n",
      "17/17 [==============================] - 2s 93ms/step - loss: 0.0024 - val_loss: 0.0014\n",
      "Epoch 77/300\n",
      "17/17 [==============================] - 2s 93ms/step - loss: 0.0022 - val_loss: 0.0011\n",
      "Epoch 78/300\n",
      "17/17 [==============================] - 2s 94ms/step - loss: 0.0025 - val_loss: 0.0018\n",
      "Epoch 79/300\n",
      "17/17 [==============================] - 2s 94ms/step - loss: 0.0024 - val_loss: 0.0011\n",
      "Epoch 80/300\n",
      "17/17 [==============================] - 2s 95ms/step - loss: 0.0022 - val_loss: 0.0012\n",
      "Epoch 81/300\n",
      "17/17 [==============================] - 2s 94ms/step - loss: 0.0020 - val_loss: 0.0012\n",
      "Epoch 82/300\n",
      "17/17 [==============================] - 2s 93ms/step - loss: 0.0022 - val_loss: 0.0012\n",
      "Epoch 83/300\n",
      "17/17 [==============================] - 2s 93ms/step - loss: 0.0022 - val_loss: 0.0011\n",
      "Epoch 84/300\n",
      "17/17 [==============================] - 2s 92ms/step - loss: 0.0022 - val_loss: 0.0011\n",
      "Epoch 85/300\n",
      "17/17 [==============================] - 2s 92ms/step - loss: 0.0021 - val_loss: 0.0015\n",
      "Epoch 86/300\n",
      "17/17 [==============================] - 2s 92ms/step - loss: 0.0021 - val_loss: 0.0015\n",
      "Epoch 87/300\n",
      "17/17 [==============================] - 2s 95ms/step - loss: 0.0023 - val_loss: 0.0013\n",
      "Epoch 88/300\n",
      "17/17 [==============================] - 2s 92ms/step - loss: 0.0020 - val_loss: 0.0012\n",
      "Epoch 89/300\n",
      "17/17 [==============================] - 2s 91ms/step - loss: 0.0023 - val_loss: 0.0012\n",
      "Epoch 90/300\n",
      "17/17 [==============================] - 2s 92ms/step - loss: 0.0022 - val_loss: 0.0013\n",
      "Epoch 91/300\n",
      "17/17 [==============================] - 2s 92ms/step - loss: 0.0021 - val_loss: 9.8315e-04\n",
      "Epoch 92/300\n",
      "17/17 [==============================] - 2s 92ms/step - loss: 0.0020 - val_loss: 0.0011\n",
      "Epoch 93/300\n",
      "17/17 [==============================] - 2s 91ms/step - loss: 0.0020 - val_loss: 0.0010\n",
      "Epoch 94/300\n",
      "17/17 [==============================] - 2s 93ms/step - loss: 0.0020 - val_loss: 0.0012\n",
      "Epoch 95/300\n",
      "17/17 [==============================] - 2s 92ms/step - loss: 0.0020 - val_loss: 9.9007e-04\n",
      "Epoch 96/300\n",
      "17/17 [==============================] - 2s 92ms/step - loss: 0.0020 - val_loss: 0.0010\n",
      "Epoch 97/300\n",
      "17/17 [==============================] - 2s 92ms/step - loss: 0.0022 - val_loss: 0.0015\n",
      "Epoch 98/300\n",
      "17/17 [==============================] - 2s 92ms/step - loss: 0.0019 - val_loss: 9.1487e-04\n",
      "Epoch 99/300\n",
      "17/17 [==============================] - 2s 92ms/step - loss: 0.0018 - val_loss: 9.2373e-04\n",
      "Epoch 100/300\n",
      "17/17 [==============================] - 2s 94ms/step - loss: 0.0020 - val_loss: 9.4556e-04\n",
      "Epoch 101/300\n",
      "17/17 [==============================] - 2s 92ms/step - loss: 0.0019 - val_loss: 9.3194e-04\n",
      "Epoch 102/300\n",
      "17/17 [==============================] - 2s 93ms/step - loss: 0.0021 - val_loss: 0.0011\n",
      "Epoch 103/300\n",
      "17/17 [==============================] - 2s 93ms/step - loss: 0.0019 - val_loss: 0.0014\n",
      "Epoch 104/300\n",
      "17/17 [==============================] - 2s 92ms/step - loss: 0.0020 - val_loss: 9.9746e-04\n",
      "Epoch 105/300\n",
      "17/17 [==============================] - 2s 93ms/step - loss: 0.0020 - val_loss: 0.0014\n",
      "Epoch 106/300\n",
      "17/17 [==============================] - 2s 92ms/step - loss: 0.0019 - val_loss: 0.0010\n",
      "Epoch 107/300\n",
      "17/17 [==============================] - 2s 96ms/step - loss: 0.0021 - val_loss: 8.3641e-04\n",
      "Epoch 108/300\n",
      "17/17 [==============================] - 3s 157ms/step - loss: 0.0017 - val_loss: 9.4957e-04\n",
      "Epoch 109/300\n",
      "17/17 [==============================] - 2s 120ms/step - loss: 0.0019 - val_loss: 9.8337e-04\n",
      "Epoch 110/300\n",
      "17/17 [==============================] - 2s 93ms/step - loss: 0.0019 - val_loss: 7.9907e-04\n",
      "Epoch 111/300\n",
      "17/17 [==============================] - 2s 93ms/step - loss: 0.0018 - val_loss: 0.0010\n",
      "Epoch 112/300\n",
      "17/17 [==============================] - 2s 92ms/step - loss: 0.0019 - val_loss: 8.5420e-04\n",
      "Epoch 113/300\n",
      "17/17 [==============================] - 2s 92ms/step - loss: 0.0018 - val_loss: 8.4300e-04\n",
      "Epoch 114/300\n",
      "17/17 [==============================] - 2s 92ms/step - loss: 0.0018 - val_loss: 9.0264e-04\n",
      "Epoch 115/300\n",
      "17/17 [==============================] - 2s 94ms/step - loss: 0.0018 - val_loss: 8.6691e-04\n",
      "Epoch 116/300\n",
      "17/17 [==============================] - 2s 93ms/step - loss: 0.0018 - val_loss: 7.7696e-04\n",
      "Epoch 117/300\n",
      "17/17 [==============================] - 2s 93ms/step - loss: 0.0016 - val_loss: 8.0028e-04\n",
      "Epoch 118/300\n",
      "17/17 [==============================] - 2s 92ms/step - loss: 0.0017 - val_loss: 0.0013\n",
      "Epoch 119/300\n",
      "17/17 [==============================] - 2s 94ms/step - loss: 0.0019 - val_loss: 0.0010\n",
      "Epoch 120/300\n",
      "17/17 [==============================] - 2s 93ms/step - loss: 0.0017 - val_loss: 9.8377e-04\n",
      "Epoch 121/300\n",
      "17/17 [==============================] - 2s 93ms/step - loss: 0.0017 - val_loss: 7.7121e-04\n",
      "Epoch 122/300\n",
      "17/17 [==============================] - 2s 92ms/step - loss: 0.0018 - val_loss: 0.0013\n",
      "Epoch 123/300\n",
      "17/17 [==============================] - 2s 91ms/step - loss: 0.0019 - val_loss: 0.0011\n",
      "Epoch 124/300\n",
      "17/17 [==============================] - 2s 92ms/step - loss: 0.0019 - val_loss: 0.0010\n",
      "Epoch 125/300\n",
      "17/17 [==============================] - 2s 92ms/step - loss: 0.0018 - val_loss: 7.5221e-04\n",
      "Epoch 126/300\n",
      "17/17 [==============================] - 2s 93ms/step - loss: 0.0016 - val_loss: 6.8398e-04\n",
      "Epoch 127/300\n",
      "17/17 [==============================] - 2s 91ms/step - loss: 0.0016 - val_loss: 7.0650e-04\n",
      "Epoch 128/300\n",
      "17/17 [==============================] - 2s 91ms/step - loss: 0.0016 - val_loss: 7.3195e-04\n",
      "Epoch 129/300\n",
      "17/17 [==============================] - 2s 91ms/step - loss: 0.0019 - val_loss: 7.0286e-04\n",
      "Epoch 130/300\n",
      "17/17 [==============================] - 2s 92ms/step - loss: 0.0015 - val_loss: 9.4813e-04\n",
      "Epoch 131/300\n",
      "17/17 [==============================] - 2s 92ms/step - loss: 0.0017 - val_loss: 6.3375e-04\n",
      "Epoch 132/300\n",
      "17/17 [==============================] - 2s 93ms/step - loss: 0.0016 - val_loss: 6.2271e-04\n",
      "Epoch 133/300\n",
      "17/17 [==============================] - 2s 92ms/step - loss: 0.0016 - val_loss: 9.7212e-04\n",
      "Epoch 134/300\n",
      "17/17 [==============================] - 2s 94ms/step - loss: 0.0019 - val_loss: 0.0011\n",
      "Epoch 135/300\n",
      "17/17 [==============================] - 2s 93ms/step - loss: 0.0018 - val_loss: 6.3835e-04\n",
      "Epoch 136/300\n",
      "17/17 [==============================] - 2s 93ms/step - loss: 0.0017 - val_loss: 5.9260e-04\n",
      "Epoch 137/300\n",
      "17/17 [==============================] - 2s 93ms/step - loss: 0.0017 - val_loss: 0.0011\n",
      "Epoch 138/300\n",
      "17/17 [==============================] - 2s 93ms/step - loss: 0.0017 - val_loss: 6.3638e-04\n",
      "Epoch 139/300\n",
      "17/17 [==============================] - 2s 92ms/step - loss: 0.0016 - val_loss: 5.9853e-04\n",
      "Epoch 140/300\n",
      "17/17 [==============================] - 2s 91ms/step - loss: 0.0017 - val_loss: 8.9992e-04\n",
      "Epoch 141/300\n",
      "17/17 [==============================] - 2s 91ms/step - loss: 0.0017 - val_loss: 5.7935e-04\n",
      "Epoch 142/300\n",
      "17/17 [==============================] - 2s 92ms/step - loss: 0.0017 - val_loss: 7.4400e-04\n",
      "Epoch 143/300\n",
      "17/17 [==============================] - 2s 93ms/step - loss: 0.0015 - val_loss: 6.7331e-04\n",
      "Epoch 144/300\n",
      "17/17 [==============================] - 2s 93ms/step - loss: 0.0016 - val_loss: 6.7207e-04\n",
      "Epoch 145/300\n",
      "17/17 [==============================] - 2s 94ms/step - loss: 0.0014 - val_loss: 5.9642e-04\n",
      "Epoch 146/300\n",
      "17/17 [==============================] - 2s 92ms/step - loss: 0.0016 - val_loss: 8.8777e-04\n",
      "Epoch 147/300\n",
      "17/17 [==============================] - 2s 95ms/step - loss: 0.0016 - val_loss: 7.7839e-04\n",
      "Epoch 148/300\n",
      "17/17 [==============================] - 2s 92ms/step - loss: 0.0015 - val_loss: 5.9720e-04\n",
      "Epoch 149/300\n",
      "17/17 [==============================] - 2s 92ms/step - loss: 0.0016 - val_loss: 6.2251e-04\n",
      "Epoch 150/300\n",
      "17/17 [==============================] - 2s 93ms/step - loss: 0.0016 - val_loss: 7.8713e-04\n",
      "Epoch 151/300\n",
      "17/17 [==============================] - 2s 94ms/step - loss: 0.0016 - val_loss: 6.8233e-04\n",
      "Epoch 152/300\n",
      "17/17 [==============================] - 2s 92ms/step - loss: 0.0017 - val_loss: 5.4964e-04\n",
      "Epoch 153/300\n",
      "17/17 [==============================] - 2s 95ms/step - loss: 0.0016 - val_loss: 6.3854e-04\n",
      "Epoch 154/300\n",
      "17/17 [==============================] - 2s 94ms/step - loss: 0.0015 - val_loss: 5.0753e-04\n",
      "Epoch 155/300\n",
      "17/17 [==============================] - 2s 93ms/step - loss: 0.0015 - val_loss: 5.2234e-04\n",
      "Epoch 156/300\n",
      "17/17 [==============================] - 2s 93ms/step - loss: 0.0017 - val_loss: 5.3811e-04\n",
      "Epoch 157/300\n",
      "17/17 [==============================] - 2s 92ms/step - loss: 0.0015 - val_loss: 6.4220e-04\n",
      "Epoch 158/300\n",
      "17/17 [==============================] - 2s 94ms/step - loss: 0.0015 - val_loss: 5.5365e-04\n",
      "Epoch 159/300\n",
      "17/17 [==============================] - 2s 94ms/step - loss: 0.0015 - val_loss: 4.9245e-04\n",
      "Epoch 160/300\n",
      "17/17 [==============================] - 2s 93ms/step - loss: 0.0014 - val_loss: 4.7855e-04\n",
      "Epoch 161/300\n",
      "17/17 [==============================] - 2s 91ms/step - loss: 0.0015 - val_loss: 4.8858e-04\n",
      "Epoch 162/300\n",
      "17/17 [==============================] - 2s 93ms/step - loss: 0.0014 - val_loss: 5.6664e-04\n",
      "Epoch 163/300\n",
      "17/17 [==============================] - 2s 93ms/step - loss: 0.0013 - val_loss: 5.2147e-04\n",
      "Epoch 164/300\n",
      "17/17 [==============================] - 2s 91ms/step - loss: 0.0015 - val_loss: 5.5445e-04\n",
      "Epoch 165/300\n",
      "17/17 [==============================] - 2s 106ms/step - loss: 0.0014 - val_loss: 4.8873e-04\n",
      "Epoch 166/300\n",
      "17/17 [==============================] - 3s 157ms/step - loss: 0.0015 - val_loss: 6.1040e-04\n",
      "Epoch 167/300\n",
      "17/17 [==============================] - 2s 113ms/step - loss: 0.0015 - val_loss: 5.6227e-04\n",
      "Epoch 168/300\n",
      "17/17 [==============================] - 2s 93ms/step - loss: 0.0016 - val_loss: 5.1754e-04\n",
      "Epoch 169/300\n",
      "17/17 [==============================] - 2s 92ms/step - loss: 0.0015 - val_loss: 5.5242e-04\n",
      "Epoch 170/300\n",
      "17/17 [==============================] - 2s 93ms/step - loss: 0.0015 - val_loss: 5.3950e-04\n",
      "Epoch 171/300\n",
      "17/17 [==============================] - 2s 93ms/step - loss: 0.0015 - val_loss: 5.2142e-04\n",
      "Epoch 172/300\n",
      "17/17 [==============================] - 2s 94ms/step - loss: 0.0016 - val_loss: 6.2417e-04\n",
      "Epoch 173/300\n",
      "17/17 [==============================] - 2s 92ms/step - loss: 0.0015 - val_loss: 4.6242e-04\n",
      "Epoch 174/300\n",
      "17/17 [==============================] - 2s 94ms/step - loss: 0.0014 - val_loss: 4.9821e-04\n",
      "Epoch 175/300\n",
      "17/17 [==============================] - 2s 92ms/step - loss: 0.0015 - val_loss: 4.5937e-04\n",
      "Epoch 176/300\n",
      "17/17 [==============================] - 2s 93ms/step - loss: 0.0015 - val_loss: 5.1024e-04\n",
      "Epoch 177/300\n",
      "17/17 [==============================] - 2s 92ms/step - loss: 0.0014 - val_loss: 4.6930e-04\n",
      "Epoch 178/300\n",
      "17/17 [==============================] - 2s 92ms/step - loss: 0.0017 - val_loss: 7.6380e-04\n",
      "Epoch 179/300\n",
      "17/17 [==============================] - 2s 92ms/step - loss: 0.0016 - val_loss: 4.9905e-04\n",
      "Epoch 180/300\n",
      "17/17 [==============================] - 2s 91ms/step - loss: 0.0014 - val_loss: 4.3537e-04\n",
      "Epoch 181/300\n",
      "17/17 [==============================] - 2s 94ms/step - loss: 0.0015 - val_loss: 5.3824e-04\n",
      "Epoch 182/300\n",
      "17/17 [==============================] - 2s 91ms/step - loss: 0.0014 - val_loss: 5.2010e-04\n",
      "Epoch 183/300\n",
      "17/17 [==============================] - 2s 93ms/step - loss: 0.0015 - val_loss: 7.8161e-04\n",
      "Epoch 184/300\n",
      "17/17 [==============================] - 2s 93ms/step - loss: 0.0014 - val_loss: 6.1108e-04\n",
      "Epoch 185/300\n",
      "17/17 [==============================] - 2s 93ms/step - loss: 0.0016 - val_loss: 4.5004e-04\n",
      "Epoch 186/300\n",
      "17/17 [==============================] - 2s 92ms/step - loss: 0.0015 - val_loss: 4.8044e-04\n",
      "Epoch 187/300\n",
      "17/17 [==============================] - 2s 95ms/step - loss: 0.0015 - val_loss: 7.5509e-04\n",
      "Epoch 188/300\n",
      "17/17 [==============================] - 2s 92ms/step - loss: 0.0016 - val_loss: 4.4453e-04\n",
      "Epoch 189/300\n",
      "17/17 [==============================] - 2s 92ms/step - loss: 0.0014 - val_loss: 4.1892e-04\n",
      "Epoch 190/300\n",
      "17/17 [==============================] - 2s 94ms/step - loss: 0.0013 - val_loss: 4.1573e-04\n",
      "Epoch 191/300\n",
      "17/17 [==============================] - 2s 92ms/step - loss: 0.0013 - val_loss: 4.7950e-04\n",
      "Epoch 192/300\n",
      "17/17 [==============================] - 2s 94ms/step - loss: 0.0015 - val_loss: 4.2869e-04\n",
      "Epoch 193/300\n",
      "17/17 [==============================] - 2s 93ms/step - loss: 0.0014 - val_loss: 6.8339e-04\n",
      "Epoch 194/300\n",
      "17/17 [==============================] - 2s 92ms/step - loss: 0.0014 - val_loss: 4.4442e-04\n",
      "Epoch 195/300\n",
      "17/17 [==============================] - 2s 92ms/step - loss: 0.0015 - val_loss: 4.4113e-04\n",
      "Epoch 196/300\n",
      "17/17 [==============================] - 2s 93ms/step - loss: 0.0015 - val_loss: 4.7874e-04\n",
      "Epoch 197/300\n",
      "17/17 [==============================] - 2s 92ms/step - loss: 0.0015 - val_loss: 5.8789e-04\n",
      "Epoch 198/300\n",
      "17/17 [==============================] - 2s 92ms/step - loss: 0.0015 - val_loss: 5.8497e-04\n",
      "Epoch 199/300\n",
      "17/17 [==============================] - 2s 92ms/step - loss: 0.0015 - val_loss: 4.1777e-04\n",
      "Epoch 200/300\n",
      "17/17 [==============================] - 2s 94ms/step - loss: 0.0013 - val_loss: 5.7406e-04\n",
      "Epoch 201/300\n",
      "17/17 [==============================] - 2s 93ms/step - loss: 0.0015 - val_loss: 4.4556e-04\n",
      "Epoch 202/300\n",
      "17/17 [==============================] - 2s 93ms/step - loss: 0.0015 - val_loss: 4.0670e-04\n",
      "Epoch 203/300\n",
      "17/17 [==============================] - 2s 93ms/step - loss: 0.0015 - val_loss: 4.3311e-04\n",
      "Epoch 204/300\n",
      "17/17 [==============================] - 2s 93ms/step - loss: 0.0014 - val_loss: 4.1580e-04\n",
      "Epoch 205/300\n",
      "17/17 [==============================] - 2s 93ms/step - loss: 0.0015 - val_loss: 4.4068e-04\n",
      "Epoch 206/300\n",
      "17/17 [==============================] - 2s 92ms/step - loss: 0.0013 - val_loss: 7.0996e-04\n",
      "Epoch 207/300\n",
      "17/17 [==============================] - 2s 92ms/step - loss: 0.0014 - val_loss: 4.5499e-04\n",
      "Epoch 208/300\n",
      "17/17 [==============================] - 2s 92ms/step - loss: 0.0014 - val_loss: 4.5567e-04\n",
      "Epoch 209/300\n",
      "17/17 [==============================] - 2s 93ms/step - loss: 0.0013 - val_loss: 4.5401e-04\n",
      "Epoch 210/300\n",
      "17/17 [==============================] - 2s 92ms/step - loss: 0.0014 - val_loss: 4.3029e-04\n",
      "Epoch 211/300\n",
      "17/17 [==============================] - 2s 92ms/step - loss: 0.0013 - val_loss: 4.5334e-04\n",
      "Epoch 212/300\n",
      "17/17 [==============================] - 2s 93ms/step - loss: 0.0014 - val_loss: 4.3353e-04\n",
      "Epoch 213/300\n",
      "17/17 [==============================] - 2s 92ms/step - loss: 0.0017 - val_loss: 5.5613e-04\n",
      "Epoch 214/300\n",
      "17/17 [==============================] - 2s 92ms/step - loss: 0.0018 - val_loss: 9.2549e-04\n",
      "Epoch 215/300\n",
      "17/17 [==============================] - 2s 92ms/step - loss: 0.0015 - val_loss: 5.3731e-04\n",
      "Epoch 216/300\n",
      "17/17 [==============================] - 2s 94ms/step - loss: 0.0014 - val_loss: 4.9727e-04\n",
      "Epoch 217/300\n",
      "17/17 [==============================] - 2s 93ms/step - loss: 0.0017 - val_loss: 3.9429e-04\n",
      "Epoch 218/300\n",
      "17/17 [==============================] - 2s 93ms/step - loss: 0.0018 - val_loss: 3.9251e-04\n",
      "Epoch 219/300\n",
      "17/17 [==============================] - 2s 92ms/step - loss: 0.0014 - val_loss: 5.1083e-04\n",
      "Epoch 220/300\n",
      "17/17 [==============================] - 2s 93ms/step - loss: 0.0014 - val_loss: 5.4692e-04\n",
      "Epoch 221/300\n",
      "17/17 [==============================] - 2s 92ms/step - loss: 0.0015 - val_loss: 8.5799e-04\n",
      "Epoch 222/300\n",
      "17/17 [==============================] - 2s 95ms/step - loss: 0.0016 - val_loss: 5.8074e-04\n",
      "Epoch 223/300\n",
      "17/17 [==============================] - 2s 119ms/step - loss: 0.0016 - val_loss: 7.4634e-04\n",
      "Epoch 224/300\n",
      "17/17 [==============================] - 3s 158ms/step - loss: 0.0015 - val_loss: 4.5452e-04\n",
      "Epoch 225/300\n",
      "17/17 [==============================] - 2s 100ms/step - loss: 0.0015 - val_loss: 5.1351e-04\n",
      "Epoch 226/300\n",
      "17/17 [==============================] - 2s 93ms/step - loss: 0.0016 - val_loss: 5.4230e-04\n",
      "Epoch 227/300\n",
      "17/17 [==============================] - 2s 94ms/step - loss: 0.0017 - val_loss: 5.4214e-04\n",
      "Epoch 228/300\n",
      "17/17 [==============================] - 2s 95ms/step - loss: 0.0017 - val_loss: 4.3282e-04\n",
      "Epoch 229/300\n",
      "17/17 [==============================] - 2s 95ms/step - loss: 0.0014 - val_loss: 4.0488e-04\n",
      "Epoch 230/300\n",
      "17/17 [==============================] - 2s 94ms/step - loss: 0.0012 - val_loss: 5.2374e-04\n",
      "Epoch 231/300\n",
      "17/17 [==============================] - 2s 95ms/step - loss: 0.0014 - val_loss: 3.9485e-04\n",
      "Epoch 232/300\n",
      "17/17 [==============================] - 2s 95ms/step - loss: 0.0013 - val_loss: 3.9251e-04\n",
      "Epoch 233/300\n",
      "17/17 [==============================] - 2s 94ms/step - loss: 0.0015 - val_loss: 4.2248e-04\n",
      "Epoch 234/300\n",
      "17/17 [==============================] - 2s 92ms/step - loss: 0.0013 - val_loss: 4.9064e-04\n",
      "Epoch 235/300\n",
      "17/17 [==============================] - 2s 94ms/step - loss: 0.0016 - val_loss: 4.1383e-04\n",
      "Epoch 236/300\n",
      "17/17 [==============================] - 2s 95ms/step - loss: 0.0015 - val_loss: 4.9524e-04\n",
      "Epoch 237/300\n",
      "17/17 [==============================] - 2s 99ms/step - loss: 0.0016 - val_loss: 5.9256e-04\n",
      "Epoch 238/300\n",
      "17/17 [==============================] - 2s 96ms/step - loss: 0.0016 - val_loss: 4.3028e-04\n",
      "Epoch 239/300\n",
      "17/17 [==============================] - 2s 94ms/step - loss: 0.0014 - val_loss: 4.1661e-04\n",
      "Epoch 240/300\n",
      "17/17 [==============================] - 2s 93ms/step - loss: 0.0015 - val_loss: 4.1251e-04\n",
      "Epoch 241/300\n",
      "17/17 [==============================] - 2s 93ms/step - loss: 0.0014 - val_loss: 4.1677e-04\n",
      "Epoch 242/300\n",
      "17/17 [==============================] - 2s 93ms/step - loss: 0.0014 - val_loss: 5.0848e-04\n",
      "Epoch 243/300\n",
      "17/17 [==============================] - 2s 93ms/step - loss: 0.0013 - val_loss: 4.5648e-04\n",
      "Epoch 244/300\n",
      "17/17 [==============================] - 2s 94ms/step - loss: 0.0014 - val_loss: 4.3690e-04\n",
      "Epoch 245/300\n",
      "17/17 [==============================] - 2s 93ms/step - loss: 0.0013 - val_loss: 6.1814e-04\n",
      "Epoch 246/300\n",
      "17/17 [==============================] - 2s 95ms/step - loss: 0.0014 - val_loss: 4.3276e-04\n",
      "Epoch 247/300\n",
      "17/17 [==============================] - 2s 94ms/step - loss: 0.0015 - val_loss: 4.0651e-04\n",
      "Epoch 248/300\n",
      "17/17 [==============================] - 2s 96ms/step - loss: 0.0014 - val_loss: 4.1748e-04\n",
      "Epoch 249/300\n",
      "17/17 [==============================] - 2s 92ms/step - loss: 0.0016 - val_loss: 6.0162e-04\n",
      "Epoch 250/300\n",
      "17/17 [==============================] - 2s 92ms/step - loss: 0.0014 - val_loss: 5.9466e-04\n",
      "Epoch 251/300\n",
      "17/17 [==============================] - 2s 93ms/step - loss: 0.0014 - val_loss: 5.0932e-04\n",
      "Epoch 252/300\n",
      "17/17 [==============================] - 2s 94ms/step - loss: 0.0013 - val_loss: 5.0370e-04\n",
      "Epoch 253/300\n",
      "17/17 [==============================] - 2s 94ms/step - loss: 0.0015 - val_loss: 4.6017e-04\n",
      "Epoch 254/300\n",
      "17/17 [==============================] - 2s 93ms/step - loss: 0.0014 - val_loss: 4.2159e-04\n",
      "Epoch 255/300\n",
      "17/17 [==============================] - 2s 94ms/step - loss: 0.0013 - val_loss: 4.7320e-04\n",
      "Epoch 256/300\n",
      "17/17 [==============================] - 2s 92ms/step - loss: 0.0015 - val_loss: 3.9473e-04\n",
      "Epoch 257/300\n",
      "17/17 [==============================] - 2s 95ms/step - loss: 0.0013 - val_loss: 5.1562e-04\n",
      "Epoch 258/300\n",
      "17/17 [==============================] - 2s 94ms/step - loss: 0.0014 - val_loss: 3.8640e-04\n",
      "Epoch 259/300\n",
      "17/17 [==============================] - 2s 93ms/step - loss: 0.0015 - val_loss: 5.9065e-04\n",
      "Epoch 260/300\n",
      "17/17 [==============================] - 2s 94ms/step - loss: 0.0015 - val_loss: 4.7388e-04\n",
      "Epoch 261/300\n",
      "17/17 [==============================] - 2s 93ms/step - loss: 0.0014 - val_loss: 4.3420e-04\n",
      "Epoch 262/300\n",
      "17/17 [==============================] - 2s 93ms/step - loss: 0.0014 - val_loss: 4.0842e-04\n",
      "Epoch 263/300\n",
      "17/17 [==============================] - 2s 92ms/step - loss: 0.0013 - val_loss: 4.0567e-04\n",
      "Epoch 264/300\n",
      "17/17 [==============================] - 2s 98ms/step - loss: 0.0013 - val_loss: 3.8365e-04\n",
      "Epoch 265/300\n",
      "17/17 [==============================] - 2s 94ms/step - loss: 0.0015 - val_loss: 3.8077e-04\n",
      "Epoch 266/300\n",
      "17/17 [==============================] - 2s 95ms/step - loss: 0.0013 - val_loss: 4.1244e-04\n",
      "Epoch 267/300\n",
      "17/17 [==============================] - 2s 93ms/step - loss: 0.0014 - val_loss: 0.0010\n",
      "Epoch 268/300\n",
      "17/17 [==============================] - 2s 94ms/step - loss: 0.0014 - val_loss: 3.9700e-04\n",
      "Epoch 269/300\n",
      "17/17 [==============================] - 2s 94ms/step - loss: 0.0014 - val_loss: 4.2044e-04\n",
      "Epoch 270/300\n",
      "17/17 [==============================] - 2s 94ms/step - loss: 0.0015 - val_loss: 4.5483e-04\n",
      "Epoch 271/300\n",
      "17/17 [==============================] - 2s 94ms/step - loss: 0.0014 - val_loss: 3.7920e-04\n",
      "Epoch 272/300\n",
      "17/17 [==============================] - 2s 94ms/step - loss: 0.0016 - val_loss: 3.7920e-04\n",
      "Epoch 273/300\n",
      "17/17 [==============================] - 2s 95ms/step - loss: 0.0015 - val_loss: 5.5235e-04\n",
      "Epoch 274/300\n",
      "17/17 [==============================] - 2s 95ms/step - loss: 0.0016 - val_loss: 7.6153e-04\n",
      "Epoch 275/300\n",
      "17/17 [==============================] - 2s 93ms/step - loss: 0.0015 - val_loss: 4.9687e-04\n",
      "Epoch 276/300\n",
      "17/17 [==============================] - 2s 94ms/step - loss: 0.0015 - val_loss: 5.3917e-04\n",
      "Epoch 277/300\n",
      "17/17 [==============================] - 2s 92ms/step - loss: 0.0015 - val_loss: 3.8703e-04\n",
      "Epoch 278/300\n",
      "17/17 [==============================] - 2s 93ms/step - loss: 0.0015 - val_loss: 4.8430e-04\n",
      "Epoch 279/300\n",
      "17/17 [==============================] - 2s 93ms/step - loss: 0.0015 - val_loss: 3.6802e-04\n",
      "Epoch 280/300\n",
      "17/17 [==============================] - 2s 97ms/step - loss: 0.0014 - val_loss: 4.6056e-04\n",
      "Epoch 281/300\n",
      "17/17 [==============================] - 3s 156ms/step - loss: 0.0013 - val_loss: 4.2317e-04\n",
      "Epoch 282/300\n",
      "17/17 [==============================] - 2s 127ms/step - loss: 0.0014 - val_loss: 4.2973e-04\n",
      "Epoch 283/300\n",
      "17/17 [==============================] - 2s 93ms/step - loss: 0.0013 - val_loss: 6.4273e-04\n",
      "Epoch 284/300\n",
      "17/17 [==============================] - 2s 93ms/step - loss: 0.0014 - val_loss: 8.7148e-04\n",
      "Epoch 285/300\n",
      "17/17 [==============================] - 2s 93ms/step - loss: 0.0015 - val_loss: 5.1421e-04\n",
      "Epoch 286/300\n",
      "17/17 [==============================] - 2s 95ms/step - loss: 0.0013 - val_loss: 5.1345e-04\n",
      "Epoch 287/300\n",
      "17/17 [==============================] - 2s 94ms/step - loss: 0.0015 - val_loss: 4.1324e-04\n",
      "Epoch 288/300\n",
      "17/17 [==============================] - 2s 95ms/step - loss: 0.0017 - val_loss: 3.8659e-04\n",
      "Epoch 289/300\n",
      "17/17 [==============================] - 2s 93ms/step - loss: 0.0014 - val_loss: 3.7774e-04\n",
      "Epoch 290/300\n",
      "17/17 [==============================] - 2s 94ms/step - loss: 0.0016 - val_loss: 3.9503e-04\n",
      "Epoch 291/300\n",
      "17/17 [==============================] - 2s 93ms/step - loss: 0.0014 - val_loss: 5.6184e-04\n",
      "Epoch 292/300\n",
      "17/17 [==============================] - 2s 94ms/step - loss: 0.0014 - val_loss: 4.8372e-04\n",
      "Epoch 293/300\n",
      "17/17 [==============================] - 2s 94ms/step - loss: 0.0017 - val_loss: 4.6089e-04\n",
      "Epoch 294/300\n",
      "17/17 [==============================] - 2s 95ms/step - loss: 0.0014 - val_loss: 3.7721e-04\n",
      "Epoch 295/300\n",
      "17/17 [==============================] - 2s 97ms/step - loss: 0.0015 - val_loss: 5.4094e-04\n",
      "Epoch 296/300\n",
      "17/17 [==============================] - 2s 94ms/step - loss: 0.0016 - val_loss: 4.9431e-04\n",
      "Epoch 297/300\n",
      "17/17 [==============================] - 2s 95ms/step - loss: 0.0014 - val_loss: 4.2666e-04\n",
      "Epoch 298/300\n",
      "17/17 [==============================] - 2s 94ms/step - loss: 0.0013 - val_loss: 4.8028e-04\n",
      "Epoch 299/300\n",
      "17/17 [==============================] - 2s 95ms/step - loss: 0.0013 - val_loss: 4.0716e-04\n",
      "Epoch 300/300\n",
      "17/17 [==============================] - 2s 95ms/step - loss: 0.0015 - val_loss: 4.1319e-04\n"
     ]
    }
   ],
   "source": [
    "from keras import Model\n",
    "from keras.layers import Input, Dense\n",
    "from keras.layers.recurrent import LSTM\n",
    "from tensorflow.keras.callbacks import EarlyStopping\n",
    "from tensorflow.keras.layers import Dropout\n",
    "from keras import backend as K\n",
    "\n",
    "def define_model():\n",
    "    input1 = Input(shape=(40,1)) \n",
    "    x =LSTM(units=64, return_sequences=True)(input1)\n",
    "    x = Dropout(0.2) (x)\n",
    "    x = LSTM(units=64)(x)\n",
    "    x = Dropout(0.2) (x)\n",
    "    x = Dense(32, activation='sigmoid')(x)\n",
    "    dnn_output = Dense(1)(x)\n",
    "    model = Model(inputs=[input1],outputs=[dnn_output])\n",
    "    \n",
    "    # compile the model\n",
    "    model.compile(loss='mean_squared_error', optimizer='Adam')\n",
    "    model.summary()\n",
    "    return model\n",
    "\n",
    "# Call the model\n",
    "model = define_model()\n",
    "\n",
    "# Fit the model\n",
    "history = model.fit(x=X_train,y=y_train,epochs=300,batch_size=32, validation_split=0.1)"
   ]
  },
  {
   "cell_type": "markdown",
   "metadata": {
    "id": "JxoOW4HRI-av"
   },
   "source": [
    "# 6.Evaluation"
   ]
  },
  {
   "cell_type": "code",
   "execution_count": 146,
   "metadata": {
    "colab": {
     "base_uri": "https://localhost:8080/"
    },
    "executionInfo": {
     "elapsed": 23,
     "status": "ok",
     "timestamp": 1657982034243,
     "user": {
      "displayName": "yeganeh shafiee",
      "userId": "07130372387837578350"
     },
     "user_tz": -270
    },
    "id": "MpqhJtpvo7Ay",
    "outputId": "bac9e107-7fa7-430e-ba2f-cc56540bec75"
   },
   "outputs": [
    {
     "name": "stdout",
     "output_type": "stream",
     "text": [
      "5/5 [==============================] - 0s 14ms/step - loss: 6.7511e-04\n"
     ]
    },
    {
     "data": {
      "text/plain": [
       "0.0006751085165888071"
      ]
     },
     "execution_count": 146,
     "metadata": {},
     "output_type": "execute_result"
    }
   ],
   "source": [
    "results = model.evaluate(X_test, y_test)\n",
    "results"
   ]
  },
  {
   "cell_type": "code",
   "execution_count": 147,
   "metadata": {
    "colab": {
     "base_uri": "https://localhost:8080/"
    },
    "executionInfo": {
     "elapsed": 1090,
     "status": "ok",
     "timestamp": 1657982035325,
     "user": {
      "displayName": "yeganeh shafiee",
      "userId": "07130372387837578350"
     },
     "user_tz": -270
    },
    "id": "gwtoonWXrHPB",
    "outputId": "3d7d17aa-ced1-4366-db2a-915e5aa271d3"
   },
   "outputs": [
    {
     "data": {
      "text/plain": [
       "(145, 1)"
      ]
     },
     "execution_count": 147,
     "metadata": {},
     "output_type": "execute_result"
    }
   ],
   "source": [
    "predictions = model.predict(X_test)\n",
    "# predictions\n",
    "predictions.shape"
   ]
  },
  {
   "cell_type": "code",
   "execution_count": 148,
   "metadata": {
    "colab": {
     "base_uri": "https://localhost:8080/",
     "height": 265
    },
    "executionInfo": {
     "elapsed": 13,
     "status": "ok",
     "timestamp": 1657982035327,
     "user": {
      "displayName": "yeganeh shafiee",
      "userId": "07130372387837578350"
     },
     "user_tz": -270
    },
    "id": "1Zi5aTJtSWDd",
    "outputId": "38bf6cfc-1964-4b7a-a985-ea4a53b60ed2"
   },
   "outputs": [
    {
     "data": {
      "image/png": "[encoded data removed]",
      "text/plain": [
       "<Figure size 432x288 with 1 Axes>"
      ]
     },
     "metadata": {
      "needs_background": "light"
     },
     "output_type": "display_data"
    }
   ],
   "source": [
    "plt.plot(y_test,'')\n",
    "plt.plot(predictions)\n",
    "plt.legend(['target', 'predict'], loc='upper left')\n",
    "plt.show()"
   ]
  },
  {
   "cell_type": "code",
   "execution_count": 149,
   "metadata": {
    "colab": {
     "base_uri": "https://localhost:8080/",
     "height": 295
    },
    "executionInfo": {
     "elapsed": 18,
     "status": "ok",
     "timestamp": 1657982036230,
     "user": {
      "displayName": "yeganeh shafiee",
      "userId": "07130372387837578350"
     },
     "user_tz": -270
    },
    "id": "4sYRMAkYSmWu",
    "outputId": "56b65ce4-4f8d-45d1-a977-ae8203578a6f"
   },
   "outputs": [
    {
     "data": {
      "image/png": "[encoded data removed]",
      "text/plain": [
       "<Figure size 432x288 with 1 Axes>"
      ]
     },
     "metadata": {
      "needs_background": "light"
     },
     "output_type": "display_data"
    }
   ],
   "source": [
    "plt.plot(history.history['loss'])\n",
    "plt.plot(history.history['val_loss'])\n",
    "plt.title('model loss')\n",
    "plt.ylabel('loss')\n",
    "plt.xlabel('epoch')\n",
    "plt.legend(['train', 'val'], loc='upper left')\n",
    "plt.show()"
   ]
  },
  {
   "cell_type": "markdown",
   "metadata": {
    "id": "qvXOXNu0TPsl"
   },
   "source": [
    "# accuracy "
   ]
  },
  {
   "cell_type": "code",
   "execution_count": 150,
   "metadata": {
    "colab": {
     "base_uri": "https://localhost:8080/"
    },
    "executionInfo": {
     "elapsed": 17,
     "status": "ok",
     "timestamp": 1657982036231,
     "user": {
      "displayName": "yeganeh shafiee",
      "userId": "07130372387837578350"
     },
     "user_tz": -270
    },
    "id": "-6z6hnhlQeH0",
    "outputId": "ba42c9ad-20b5-4011-c12d-4a64c0138b59"
   },
   "outputs": [
    {
     "data": {
      "text/plain": [
       "0.989890387125308"
      ]
     },
     "execution_count": 150,
     "metadata": {},
     "output_type": "execute_result"
    }
   ],
   "source": [
    "from sklearn.metrics import r2_score\n",
    "r2_score(y_test , predictions)"
   ]
  },
  {
   "cell_type": "markdown",
   "metadata": {
    "id": "alYA3xzmS_e8"
   },
   "source": [
    "# 7.Predict the close price for tomorrow"
   ]
  },
  {
   "cell_type": "code",
   "execution_count": 156,
   "metadata": {
    "colab": {
     "base_uri": "https://localhost:8080/"
    },
    "executionInfo": {
     "elapsed": 375,
     "status": "ok",
     "timestamp": 1657982375004,
     "user": {
      "displayName": "yeganeh shafiee",
      "userId": "07130372387837578350"
     },
     "user_tz": -270
    },
    "id": "PYczv_LIcahY",
    "outputId": "b0507de0-f2d3-4e3e-ce76-75901a7b79f3"
   },
   "outputs": [
    {
     "data": {
      "text/plain": [
       "array([[159.79247]], dtype=float32)"
      ]
     },
     "execution_count": 156,
     "metadata": {},
     "output_type": "execute_result"
    }
   ],
   "source": [
    "tomorrow_prediction = model.predict(X_meta_close[-1:, :])\n",
    "tomorrow=scaler.inverse_transform(tomorrow_prediction)\n",
    "tomorrow"
   ]
  },
  {
   "cell_type": "markdown",
   "metadata": {
    "id": "Ncg5-W3rde3J"
   },
   "source": [
    "## Real value for tomorrow ---> **160.029999**\n",
    "## Predicted value for tomorrow ---> **159.79247**🥇\n",
    "\n"
   ]
  },
  {
   "cell_type": "code",
   "execution_count": null,
   "metadata": {
    "id": "2YRD9bv-erUz"
   },
   "outputs": [],
   "source": []
  }
 ],
 "metadata": {
  "colab": {
   "collapsed_sections": [],
   "name": "Meta_Stock_Prediction_LSTM.ipynb",
   "provenance": []
  },
  "gpuClass": "standard",
  "kernelspec": {
   "display_name": "Python [conda env:base] *",
   "language": "python",
   "name": "conda-base-py"
  },
  "language_info": {
   "codemirror_mode": {
    "name": "ipython",
    "version": 3
   },
   "file_extension": ".py",
   "mimetype": "text/x-python",
   "name": "python",
   "nbconvert_exporter": "python",
   "pygments_lexer": "ipython3",
   "version": "3.13.5"
  }
 },
 "nbformat": 4,
 "nbformat_minor": 4
}
